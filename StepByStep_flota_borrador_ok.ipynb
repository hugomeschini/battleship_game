{
 "cells": [
  {
   "cell_type": "code",
   "execution_count": 1,
   "metadata": {},
   "outputs": [],
   "source": [
    "#importar\n",
    "\n",
    "import random\n",
    "import numpy as np\n",
    "import constantes"
   ]
  },
  {
   "cell_type": "code",
   "execution_count": 2,
   "metadata": {},
   "outputs": [],
   "source": [
    "class Tableros():\n",
    "    \"\"\"Clase creada para generar los tablero\"\"\"\n",
    "\n",
    "    def __init__(self):\n",
    "        pass\n",
    "    \n",
    "    def bienvenido(self):\n",
    "        print(\"----Bienvenido al juego Hundir de la Flota!----\")\n",
    "        print(\"-----El partido será entre tu y la máquina-----\")\n",
    "        print(\"--------------------Suerte!--------------------\")\n",
    "        print()\n",
    "        print(\"**Las instrucciones del partido son las siguientes:**\")\n",
    "        print(\" 1 - Tanto tu, como la máquina tenéis un tablero con barcos, y se trata de ir disparando y hundiendo los del adversario hasta que un jugador se queda sin barcos, y por tanto, pierde.\", \"\\n\", \"2 - Funciona por turnos y empiezas tú.\", \"\\n\", \"3 - En cada turno disparas a una coordenada (X, Y) del tablero adversario. **Si aciertas, te vuelve a tocar**. En caso contrario, le toca a la máquina.\", \"\\n\",\"4- En los turnos de la máquina, si acerta también le vuelve a tocar.\", \"\\n\", \"5 - Si se hunden todos los barcos de un jugador, el juego acaba y gana el otro.\")\n",
    "\n",
    "    def tablero_user(self):\n",
    "        x = np.full((10,10), fill_value = \"_\")\n",
    "        print(\"User:\",\"\\n\", x)\n",
    "        return x\n",
    "    \n",
    "    def computer(self):\n",
    "        y = np.full((10,10), fill_value = \"_\")\n",
    "        print(\"Maquina:\", \"\\n\", y)\n",
    "        return y\n",
    "\n",
    "    def computer_copy(self):\n",
    "        z = np.full((10,10), fill_value = \"_\")\n",
    "        print(\"Maquina_copy:\", \"\\n\", z)\n",
    "        return z\n",
    "        "
   ]
  },
  {
   "cell_type": "code",
   "execution_count": 3,
   "metadata": {},
   "outputs": [
    {
     "name": "stdout",
     "output_type": "stream",
     "text": [
      "----Bienvenido al juego Hundir de la Flota!----\n",
      "-----El partido será entre tu y la máquina-----\n",
      "--------------------Suerte!--------------------\n",
      "\n",
      "**Las instrucciones del partido son las siguientes:**\n",
      " 1 - Tanto tu, como la máquina tenéis un tablero con barcos, y se trata de ir disparando y hundiendo los del adversario hasta que un jugador se queda sin barcos, y por tanto, pierde. \n",
      " 2 - Funciona por turnos y empiezas tú. \n",
      " 3 - En cada turno disparas a una coordenada (X, Y) del tablero adversario. **Si aciertas, te vuelve a tocar**. En caso contrario, le toca a la máquina. \n",
      " 4- En los turnos de la máquina, si acerta también le vuelve a tocar. \n",
      " 5 - Si se hunden todos los barcos de un jugador, el juego acaba y gana el otro.\n"
     ]
    }
   ],
   "source": [
    "#comprobar el anterior\n",
    "inicio = Tableros()\n",
    "iniciar = inicio.bienvenido()"
   ]
  },
  {
   "cell_type": "code",
   "execution_count": 4,
   "metadata": {},
   "outputs": [
    {
     "name": "stdout",
     "output_type": "stream",
     "text": [
      "User: \n",
      " [['_' '_' '_' '_' '_' '_' '_' '_' '_' '_']\n",
      " ['_' '_' '_' '_' '_' '_' '_' '_' '_' '_']\n",
      " ['_' '_' '_' '_' '_' '_' '_' '_' '_' '_']\n",
      " ['_' '_' '_' '_' '_' '_' '_' '_' '_' '_']\n",
      " ['_' '_' '_' '_' '_' '_' '_' '_' '_' '_']\n",
      " ['_' '_' '_' '_' '_' '_' '_' '_' '_' '_']\n",
      " ['_' '_' '_' '_' '_' '_' '_' '_' '_' '_']\n",
      " ['_' '_' '_' '_' '_' '_' '_' '_' '_' '_']\n",
      " ['_' '_' '_' '_' '_' '_' '_' '_' '_' '_']\n",
      " ['_' '_' '_' '_' '_' '_' '_' '_' '_' '_']]\n",
      "Maquina: \n",
      " [['_' '_' '_' '_' '_' '_' '_' '_' '_' '_']\n",
      " ['_' '_' '_' '_' '_' '_' '_' '_' '_' '_']\n",
      " ['_' '_' '_' '_' '_' '_' '_' '_' '_' '_']\n",
      " ['_' '_' '_' '_' '_' '_' '_' '_' '_' '_']\n",
      " ['_' '_' '_' '_' '_' '_' '_' '_' '_' '_']\n",
      " ['_' '_' '_' '_' '_' '_' '_' '_' '_' '_']\n",
      " ['_' '_' '_' '_' '_' '_' '_' '_' '_' '_']\n",
      " ['_' '_' '_' '_' '_' '_' '_' '_' '_' '_']\n",
      " ['_' '_' '_' '_' '_' '_' '_' '_' '_' '_']\n",
      " ['_' '_' '_' '_' '_' '_' '_' '_' '_' '_']]\n",
      "Maquina_copy: \n",
      " [['_' '_' '_' '_' '_' '_' '_' '_' '_' '_']\n",
      " ['_' '_' '_' '_' '_' '_' '_' '_' '_' '_']\n",
      " ['_' '_' '_' '_' '_' '_' '_' '_' '_' '_']\n",
      " ['_' '_' '_' '_' '_' '_' '_' '_' '_' '_']\n",
      " ['_' '_' '_' '_' '_' '_' '_' '_' '_' '_']\n",
      " ['_' '_' '_' '_' '_' '_' '_' '_' '_' '_']\n",
      " ['_' '_' '_' '_' '_' '_' '_' '_' '_' '_']\n",
      " ['_' '_' '_' '_' '_' '_' '_' '_' '_' '_']\n",
      " ['_' '_' '_' '_' '_' '_' '_' '_' '_' '_']\n",
      " ['_' '_' '_' '_' '_' '_' '_' '_' '_' '_']]\n"
     ]
    }
   ],
   "source": [
    "inicializar = Tableros()\n",
    "\n",
    "tablero_user = inicializar.tablero_user()\n",
    "# print(tablero_user)\n",
    "\n",
    "tablero_computer = inicializar.computer()\n",
    "# print(tablero_computer)\n",
    "\n",
    "tablero_copy = inicializar.computer_copy()"
   ]
  },
  {
   "cell_type": "code",
   "execution_count": 5,
   "metadata": {},
   "outputs": [
    {
     "name": "stdout",
     "output_type": "stream",
     "text": [
      "navio:  4  - fila:  3  - columna:  0  - Dir:  E\n",
      "navio:  3  - fila:  4  - columna:  6  - Dir:  E\n",
      "navio:  3  - fila:  4  - columna:  1  - Dir:  N\n",
      "navio:  2  - fila:  0  - columna:  8  - Dir:  O\n",
      "navio:  2  - fila:  2  - columna:  9  - Dir:  N\n",
      "navio:  2  - fila:  0  - columna:  3  - Dir:  E\n",
      "navio:  1  - fila:  8  - columna:  8  - Dir:  S\n",
      "navio:  1  - fila:  8  - columna:  3  - Dir:  O\n",
      "navio:  1  - fila:  7  - columna:  2  - Dir:  N\n",
      "navio:  1  - fila:  7  - columna:  0  - Dir:  S\n"
     ]
    }
   ],
   "source": [
    "#poner barcos en el tablero del user\n",
    "#He podido ponerlos de forma aleatorio, lo unico que no he podido generar ha sido con el espacio entre los barcos, pero seguro que no se solapan\n",
    "\n",
    "lista_barcos = constantes.barcos\n",
    "\n",
    "for i in lista_barcos:\n",
    "      \n",
    "      ok = False\n",
    "      \n",
    "      while ok == False:\n",
    "            fila_barco = random.randint(0,9)\n",
    "            columna_barco = random.randint(0,9)\n",
    "            direccion = random.choice([\"N\", \"S\", \"E\", \"O\"])\n",
    "            eslora = i\n",
    "\n",
    "            if direccion == \"N\" and fila_barco + eslora -1 < len(tablero_user):\n",
    "                  ok = True\n",
    "                  for x in range(fila_barco,fila_barco + eslora):\n",
    "                        if tablero_user[x, columna_barco] == \"O\":\n",
    "                              ok = False\n",
    "                  if ok == True:\n",
    "                        tablero_user[fila_barco:fila_barco + eslora, columna_barco] = \"O\"\n",
    "                        print(\"navio: \", i, \" - fila: \", fila_barco, \" - columna: \", columna_barco, \" - Dir: \", direccion) #estos prints he creado simplemente para ayudarme con la logica de poner los barcos de forma aleatoria. Así que en el momento de jugar los mismos no deberán imprimir.\n",
    "            elif direccion == \"S\" and fila_barco - eslora +1 >= 0:\n",
    "                  ok = True\n",
    "                  for x in range(fila_barco - eslora +1,fila_barco +1):\n",
    "                        if tablero_user[x, columna_barco] == \"O\":\n",
    "                              ok = False\n",
    "                  if ok == True:\n",
    "                        tablero_user[fila_barco - eslora +1: fila_barco +1, columna_barco] = \"O\"\n",
    "                        print(\"navio: \", i, \" - fila: \", fila_barco, \" - columna: \", columna_barco, \" - Dir: \", direccion) #estos prints he creado simplemente para ayudarme con la logica de poner los barcos de forma aleatoria. Así que en el momento de jugar los mismos no deberán imprimir.\n",
    "            elif direccion == \"E\" and columna_barco + eslora -1 < len(tablero_user):\n",
    "                  ok = True\n",
    "                  for x in range(columna_barco,columna_barco + eslora):\n",
    "                        if tablero_user[fila_barco, x] == \"O\":\n",
    "                              ok = False\n",
    "                  if ok == True:\n",
    "                        tablero_user[fila_barco, columna_barco: columna_barco + eslora] = \"O\"\n",
    "                        print(\"navio: \", i, \" - fila: \", fila_barco, \" - columna: \", columna_barco, \" - Dir: \", direccion) #estos prints he creado simplemente para ayudarme con la logica de poner los barcos de forma aleatoria. Así que en el momento de jugar los mismos no deberán imprimir.\n",
    "            elif direccion == \"O\" and columna_barco - eslora +1 >= 0:\n",
    "                  ok = True\n",
    "                  for x in range(columna_barco - eslora +1,columna_barco +1):\n",
    "                        if tablero_user[fila_barco, x] == \"O\":\n",
    "                              ok = False\n",
    "                  if ok == True:\n",
    "                        tablero_user[fila_barco, columna_barco - eslora +1: columna_barco +1] = \"O\"\n",
    "                        print(\"navio: \", i, \" - fila: \", fila_barco, \" - columna: \", columna_barco, \" - Dir: \", direccion) #estos prints he creado simplemente para ayudarme con la logica de poner los barcos de forma aleatoria. Así que en el momento de jugar los mismos no deberán imprimir."
   ]
  },
  {
   "cell_type": "code",
   "execution_count": 6,
   "metadata": {},
   "outputs": [
    {
     "name": "stdout",
     "output_type": "stream",
     "text": [
      "navio:  4  - fila:  0  - columna:  4  - Dir:  O\n",
      "navio:  3  - fila:  5  - columna:  8  - Dir:  S\n",
      "navio:  3  - fila:  6  - columna:  2  - Dir:  S\n",
      "navio:  2  - fila:  7  - columna:  0  - Dir:  E\n",
      "navio:  2  - fila:  2  - columna:  0  - Dir:  E\n",
      "navio:  2  - fila:  0  - columna:  8  - Dir:  E\n",
      "navio:  1  - fila:  9  - columna:  4  - Dir:  S\n",
      "navio:  1  - fila:  2  - columna:  9  - Dir:  N\n",
      "navio:  1  - fila:  6  - columna:  8  - Dir:  N\n",
      "navio:  1  - fila:  3  - columna:  7  - Dir:  E\n"
     ]
    }
   ],
   "source": [
    "#poner barcos en el tablero de la maquina\n",
    "#He podido ponerlos de forma aleatorio, lo unico que no he podido generar ha sido con el espacio entre los barcos, pero seguro que no se solapan\n",
    "\n",
    "lista_barcos = constantes.barcos                \n",
    "\n",
    "for i in lista_barcos:\n",
    "      \n",
    "      ok = False\n",
    "      \n",
    "      while ok == False:\n",
    "            fila_barco = random.randint(0,9)\n",
    "            columna_barco = random.randint(0,9)\n",
    "            direccion = random.choice([\"N\", \"S\", \"E\", \"O\"])\n",
    "            eslora = i\n",
    "\n",
    "            if direccion == \"N\" and fila_barco + eslora -1 < len(tablero_computer):\n",
    "                  ok = True\n",
    "                  for x in range(fila_barco,fila_barco + eslora):\n",
    "                        if tablero_computer[x, columna_barco] == \"O\":\n",
    "                              ok = False\n",
    "                  if ok == True:\n",
    "                        tablero_computer[fila_barco:fila_barco + eslora, columna_barco] = \"O\"\n",
    "                        print(\"navio: \", i, \" - fila: \", fila_barco, \" - columna: \", columna_barco, \" - Dir: \", direccion) #estos prints he creado simplemente para ayudarme con la logica de poner los barcos de forma aleatoria. Así que en el momento de jugar los mismos no deberán imprimir.\n",
    "            elif direccion == \"S\" and fila_barco - eslora +1 >= 0:\n",
    "                  ok = True\n",
    "                  for x in range(fila_barco - eslora +1,fila_barco +1):\n",
    "                        if tablero_computer[x, columna_barco] == \"O\":\n",
    "                              ok = False\n",
    "                  if ok == True:\n",
    "                        tablero_computer[fila_barco - eslora +1: fila_barco +1, columna_barco] = \"O\"\n",
    "                        print(\"navio: \", i, \" - fila: \", fila_barco, \" - columna: \", columna_barco, \" - Dir: \", direccion) #estos prints he creado simplemente para ayudarme con la logica de poner los barcos de forma aleatoria. Así que en el momento de jugar los mismos no deberán imprimir.\n",
    "            elif direccion == \"E\" and columna_barco + eslora -1 < len(tablero_computer):\n",
    "                  ok = True\n",
    "                  for x in range(columna_barco,columna_barco + eslora):\n",
    "                        if tablero_computer[fila_barco, x] == \"O\":\n",
    "                              ok = False\n",
    "                  if ok == True:\n",
    "                        tablero_computer[fila_barco, columna_barco: columna_barco + eslora] = \"O\"\n",
    "                        print(\"navio: \", i, \" - fila: \", fila_barco, \" - columna: \", columna_barco, \" - Dir: \", direccion) #estos prints he creado simplemente para ayudarme con la logica de poner los barcos de forma aleatoria. Así que en el momento de jugar los mismos no deberán imprimir.\n",
    "            elif direccion == \"O\" and columna_barco - eslora +1 >= 0:\n",
    "                  ok = True\n",
    "                  for x in range(columna_barco - eslora +1,columna_barco +1):\n",
    "                        if tablero_computer[fila_barco, x] == \"O\":\n",
    "                              ok = False\n",
    "                  if ok == True:\n",
    "                        tablero_computer[fila_barco, columna_barco - eslora +1: columna_barco +1] = \"O\"\n",
    "                        print(\"navio: \", i, \" - fila: \", fila_barco, \" - columna: \", columna_barco, \" - Dir: \", direccion) #estos prints he creado simplemente para ayudarme con la logica de poner los barcos de forma aleatoria. Así que en el momento de jugar los mismos no deberán imprimir.\n",
    "\n"
   ]
  },
  {
   "cell_type": "code",
   "execution_count": 7,
   "metadata": {},
   "outputs": [
    {
     "data": {
      "text/plain": [
       "array([['_', '_', '_', 'O', 'O', '_', '_', 'O', 'O', '_'],\n",
       "       ['_', '_', '_', '_', '_', '_', '_', '_', '_', '_'],\n",
       "       ['_', '_', '_', '_', '_', '_', '_', '_', '_', 'O'],\n",
       "       ['O', 'O', 'O', 'O', '_', '_', '_', '_', '_', 'O'],\n",
       "       ['_', 'O', '_', '_', '_', '_', 'O', 'O', 'O', '_'],\n",
       "       ['_', 'O', '_', '_', '_', '_', '_', '_', '_', '_'],\n",
       "       ['_', 'O', '_', '_', '_', '_', '_', '_', '_', '_'],\n",
       "       ['O', '_', 'O', '_', '_', '_', '_', '_', '_', '_'],\n",
       "       ['_', '_', '_', 'O', '_', '_', '_', '_', 'O', '_'],\n",
       "       ['_', '_', '_', '_', '_', '_', '_', '_', '_', '_']], dtype='<U1')"
      ]
     },
     "execution_count": 7,
     "metadata": {},
     "output_type": "execute_result"
    }
   ],
   "source": [
    "tablero_user"
   ]
  },
  {
   "cell_type": "code",
   "execution_count": 8,
   "metadata": {},
   "outputs": [
    {
     "data": {
      "text/plain": [
       "array([['_', 'O', 'O', 'O', 'O', '_', '_', '_', 'O', 'O'],\n",
       "       ['_', '_', '_', '_', '_', '_', '_', '_', '_', '_'],\n",
       "       ['O', 'O', '_', '_', '_', '_', '_', '_', '_', 'O'],\n",
       "       ['_', '_', '_', '_', '_', '_', '_', 'O', 'O', '_'],\n",
       "       ['_', '_', 'O', '_', '_', '_', '_', '_', 'O', '_'],\n",
       "       ['_', '_', 'O', '_', '_', '_', '_', '_', 'O', '_'],\n",
       "       ['_', '_', 'O', '_', '_', '_', '_', '_', 'O', '_'],\n",
       "       ['O', 'O', '_', '_', '_', '_', '_', '_', '_', '_'],\n",
       "       ['_', '_', '_', '_', '_', '_', '_', '_', '_', '_'],\n",
       "       ['_', '_', '_', '_', 'O', '_', '_', '_', '_', '_']], dtype='<U1')"
      ]
     },
     "execution_count": 8,
     "metadata": {},
     "output_type": "execute_result"
    }
   ],
   "source": [
    "tablero_computer"
   ]
  },
  {
   "cell_type": "code",
   "execution_count": 9,
   "metadata": {},
   "outputs": [
    {
     "data": {
      "text/plain": [
       "array([['_', '_', '_', '_', '_', '_', '_', '_', '_', '_'],\n",
       "       ['_', '_', '_', '_', '_', '_', '_', '_', '_', '_'],\n",
       "       ['_', '_', '_', '_', '_', '_', '_', '_', '_', '_'],\n",
       "       ['_', '_', '_', '_', '_', '_', '_', '_', '_', '_'],\n",
       "       ['_', '_', '_', '_', '_', '_', '_', '_', '_', '_'],\n",
       "       ['_', '_', '_', '_', '_', '_', '_', '_', '_', '_'],\n",
       "       ['_', '_', '_', '_', '_', '_', '_', '_', '_', '_'],\n",
       "       ['_', '_', '_', '_', '_', '_', '_', '_', '_', '_'],\n",
       "       ['_', '_', '_', '_', '_', '_', '_', '_', '_', '_'],\n",
       "       ['_', '_', '_', '_', '_', '_', '_', '_', '_', '_']], dtype='<U1')"
      ]
     },
     "execution_count": 9,
     "metadata": {},
     "output_type": "execute_result"
    }
   ],
   "source": [
    "tablero_copy"
   ]
  },
  {
   "cell_type": "code",
   "execution_count": 10,
   "metadata": {},
   "outputs": [
    {
     "name": "stdout",
     "output_type": "stream",
     "text": [
      "Juegas tu!\n"
     ]
    },
    {
     "ename": "ValueError",
     "evalue": "invalid literal for int() with base 10: ''",
     "output_type": "error",
     "traceback": [
      "\u001b[1;31m---------------------------------------------------------------------------\u001b[0m",
      "\u001b[1;31mValueError\u001b[0m                                Traceback (most recent call last)",
      "\u001b[1;32m~\\AppData\\Local\\Temp\\ipykernel_17924\\1131680236.py\u001b[0m in \u001b[0;36m<module>\u001b[1;34m\u001b[0m\n\u001b[0;32m     11\u001b[0m         \u001b[0mprint\u001b[0m\u001b[1;33m(\u001b[0m\u001b[1;34m\"Juegas tu!\"\u001b[0m\u001b[1;33m)\u001b[0m\u001b[1;33m\u001b[0m\u001b[1;33m\u001b[0m\u001b[0m\n\u001b[0;32m     12\u001b[0m \u001b[1;33m\u001b[0m\u001b[0m\n\u001b[1;32m---> 13\u001b[1;33m         \u001b[0muser_disparo_1\u001b[0m \u001b[1;33m=\u001b[0m \u001b[0mint\u001b[0m\u001b[1;33m(\u001b[0m\u001b[0minput\u001b[0m\u001b[1;33m(\u001b[0m\u001b[1;34m\"1 - Indicar fila entre 0 y 9: \"\u001b[0m\u001b[1;33m)\u001b[0m\u001b[1;33m)\u001b[0m\u001b[1;33m\u001b[0m\u001b[1;33m\u001b[0m\u001b[0m\n\u001b[0m\u001b[0;32m     14\u001b[0m         \u001b[0muser_disparo_2\u001b[0m \u001b[1;33m=\u001b[0m \u001b[0mint\u001b[0m\u001b[1;33m(\u001b[0m\u001b[0minput\u001b[0m\u001b[1;33m(\u001b[0m\u001b[1;34m\"2 - Indicar columna entre 0 y 9: \"\u001b[0m\u001b[1;33m)\u001b[0m\u001b[1;33m)\u001b[0m\u001b[1;33m\u001b[0m\u001b[1;33m\u001b[0m\u001b[0m\n\u001b[0;32m     15\u001b[0m \u001b[1;33m\u001b[0m\u001b[0m\n",
      "\u001b[1;31mValueError\u001b[0m: invalid literal for int() with base 10: ''"
     ]
    }
   ],
   "source": [
    "#disparos en ambos tableros\n",
    "#el mensage de fin de juego sale de este mismo codigo\n",
    "\n",
    "\n",
    "while \"O\" in tablero_user and \"O\" in tablero_computer:\n",
    "\n",
    "    #juega el user\n",
    "\n",
    "    while \"O\" in tablero_user and \"O\" in tablero_computer:\n",
    "\n",
    "        print(\"Juegas tu!\")\n",
    "\n",
    "        user_disparo_1 = int(input(\"1 - Indicar fila entre 0 y 9: \"))\n",
    "        user_disparo_2 = int(input(\"2 - Indicar columna entre 0 y 9: \"))\n",
    "\n",
    "        if user_disparo_1 > 9 or user_disparo_1 < 0 or user_disparo_2 > 9 or user_disparo_2 < 0:\n",
    "\n",
    "            print(\"Has incluido una coordenada fuera del tablero\") \n",
    "\n",
    "        elif tablero_computer[user_disparo_1, user_disparo_2] == \"_\":\n",
    "            tablero_computer[user_disparo_1, user_disparo_2] = \"A\"\n",
    "            tablero_copy[user_disparo_1, user_disparo_2] = \"A\"\n",
    "            print(\"Agua!!!\")\n",
    "            print(\"Tablero_maquina:\",\"\\n\",tablero_copy)\n",
    "            print(\"\\n\")\n",
    "            break\n",
    "            \n",
    "        elif tablero_computer[user_disparo_1, user_disparo_2] == \"O\":\n",
    "            tablero_computer[user_disparo_1, user_disparo_2] = \"X\"\n",
    "            tablero_copy[user_disparo_1, user_disparo_2] = \"X\"\n",
    "            exists =  \"O\" in tablero_computer\n",
    "            if exists == False:\n",
    "                print(\"Enhorabuena, has destrozado la maquina!!!\")\n",
    "                break\n",
    "            print(\"Has identificado un barco, puedes jugar otra vez!!!\")\n",
    "            print(\"Tablero_maquina:\",\"\\n\",tablero_copy)\n",
    "            print(\"\\n\")\n",
    "                        \n",
    "        elif tablero_computer[user_disparo_1, user_disparo_2] == \"X\":\n",
    "            \n",
    "            print(\"Coordenada ya disparada, inténtalo de nuevo!!!\")\n",
    "            print(\"\\n\")\n",
    "\n",
    "        elif tablero_computer[user_disparo_1, user_disparo_2] == \"A\":\n",
    "            \n",
    "            print(\"Coordenada ya disparada, inténtalo de nuevo!!!\")\n",
    "            print(\"\\n\")\n",
    "\n",
    "\n",
    "    #juega la maquina\n",
    "\n",
    "    while \"O\" in tablero_user and \"O\" in tablero_computer:\n",
    "\n",
    "        print(\"Juega la maquina!\")\n",
    "\n",
    "        maquina_disparo_1 = random.randint(0,9)\n",
    "        maquina_disparo_2 = random.randint(0,9)\n",
    "\n",
    "        if tablero_user[maquina_disparo_1, maquina_disparo_2] == \"_\":\n",
    "            tablero_user[maquina_disparo_1, maquina_disparo_2] = \"A\"\n",
    "            print(\"Agua!!!\")\n",
    "            print(\"Tablero_user:\",\"\\n\",tablero_user)\n",
    "            print(\"\\n\")\n",
    "            print(\"Tablero_maquina:\",\"\\n\",tablero_copy)\n",
    "            print(\"\\n\")\n",
    "            break\n",
    "\n",
    "        elif tablero_user[maquina_disparo_1, maquina_disparo_2] == \"O\":\n",
    "            tablero_user[maquina_disparo_1, maquina_disparo_2] = \"X\"\n",
    "            exists2 =  \"O\" in tablero_user\n",
    "            if exists2 == False:\n",
    "                print(\"Enhorabuena, has destrozado tu oponente humano!!!\")\n",
    "                break \n",
    "            print(\"La maquina ha identificado un barco y puede jugar otra vez!!!\", \"\\n\", tablero_user)\n",
    "            print(\"\\n\")\n",
    "                        \n",
    "        elif tablero_user[maquina_disparo_1, maquina_disparo_2] == \"X\":\n",
    "            print(\"Coordinada ya disparada, la maquina puede intentar otra vez!!!\")\n",
    "            print(\"\\n\")\n",
    "\n",
    "        elif tablero_user[maquina_disparo_1, maquina_disparo_2] == \"A\":\n",
    "            print(\"Coordinada ya disparada, la maquina puede intentar otra vez!!!\")\n",
    "            print(\"\\n\")\n",
    "\n",
    "else:\n",
    "    print(\"-----Fin de juego-----\")\n",
    "    print(\"By Hugo Meschini (with a 'little' help from The Bridge teachers and friends)\")\n",
    "\n"
   ]
  }
 ],
 "metadata": {
  "interpreter": {
   "hash": "dbb7385ac3431fa69875baf2702cf95a14f5d63f6dcb5d73516f07a3bb8a845f"
  },
  "kernelspec": {
   "display_name": "Python 3.7.4 64-bit",
   "language": "python",
   "name": "python3"
  },
  "language_info": {
   "codemirror_mode": {
    "name": "ipython",
    "version": 3
   },
   "file_extension": ".py",
   "mimetype": "text/x-python",
   "name": "python",
   "nbconvert_exporter": "python",
   "pygments_lexer": "ipython3",
   "version": "3.7.4"
  },
  "orig_nbformat": 4
 },
 "nbformat": 4,
 "nbformat_minor": 2
}
